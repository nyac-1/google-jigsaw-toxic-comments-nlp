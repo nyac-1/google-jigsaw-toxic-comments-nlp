{
  "nbformat": 4,
  "nbformat_minor": 0,
  "metadata": {
    "colab": {
      "name": "model.ipynb",
      "provenance": []
    },
    "kernelspec": {
      "name": "python3",
      "display_name": "Python 3"
    },
    "language_info": {
      "name": "python"
    },
    "accelerator": "GPU"
  },
  "cells": [
    {
      "cell_type": "code",
      "execution_count": 1,
      "metadata": {
        "colab": {
          "base_uri": "https://localhost:8080/"
        },
        "id": "oTixOWt6W1nf",
        "outputId": "020055aa-c12d-4fff-cf84-48d3f4234616"
      },
      "outputs": [
        {
          "output_type": "stream",
          "name": "stdout",
          "text": [
            "Drive already mounted at /content/drive; to attempt to forcibly remount, call drive.mount(\"/content/drive\", force_remount=True).\n"
          ]
        }
      ],
      "source": [
        "from google.colab import drive\n",
        "drive.mount(\"/content/drive\")"
      ]
    },
    {
      "cell_type": "code",
      "source": [
        "import pandas as pd\n",
        "import numpy as np"
      ],
      "metadata": {
        "id": "I6zjBtAFW5yw"
      },
      "execution_count": 2,
      "outputs": []
    },
    {
      "cell_type": "code",
      "source": [
        "train = pd.read_csv('/content/drive/MyDrive/jigsaw-text-data/train_clean.csv')\n",
        "test = pd.read_csv('/content/drive/MyDrive/jigsaw-text-data/test_clean.csv')\n",
        "train_text = np.loadtxt('/content/drive/MyDrive/jigsaw-text-data/train_text.csv', delimiter=',')\n",
        "test_text = np.loadtxt('/content/drive/MyDrive/jigsaw-text-data/test_text.csv', delimiter=',')\n",
        "y = train.iloc[:,2:]"
      ],
      "metadata": {
        "id": "hk2LbPRZXPkX"
      },
      "execution_count": 3,
      "outputs": []
    },
    {
      "cell_type": "code",
      "source": [
        "import string\n",
        "from keras.layers import Dense, Input, LSTM, Embedding, Dropout, Activation\n",
        "from keras.layers import Bidirectional, GlobalMaxPool1D\n",
        "from keras.models import Model\n",
        "from keras import initializers, regularizers, constraints, optimizers, layers"
      ],
      "metadata": {
        "id": "C-1wsRhSYK1c"
      },
      "execution_count": 4,
      "outputs": []
    },
    {
      "cell_type": "code",
      "source": [
        "maxlen = 200\n",
        "max_features = 5000\n",
        "\n",
        "inp = Input(shape=(maxlen, ))\n",
        "embed_size = 128\n",
        "x = Embedding(max_features, embed_size)(inp)\n",
        "x = LSTM(60, return_sequences=True,name='lstm_layer')(x)\n",
        "x = GlobalMaxPool1D()(x)\n",
        "x = Dropout(0.1)(x)\n",
        "x = Dense(50, activation=\"relu\")(x)\n",
        "x = Dropout(0.1)(x)\n",
        "x = Dense(6, activation=\"sigmoid\")(x)"
      ],
      "metadata": {
        "id": "h7OvqRbHYhMT"
      },
      "execution_count": 5,
      "outputs": []
    },
    {
      "cell_type": "code",
      "source": [
        "model = Model(inputs=inp, outputs=x)\n",
        "model.compile(loss='binary_crossentropy',optimizer='adam',metrics=['accuracy'])"
      ],
      "metadata": {
        "id": "0JMMwL1nZsH0"
      },
      "execution_count": 6,
      "outputs": []
    },
    {
      "cell_type": "code",
      "source": [
        "batch_size = 32\n",
        "epochs = 3\n",
        "model.fit(train_text,y, batch_size=batch_size, epochs=epochs, validation_split=0.15)"
      ],
      "metadata": {
        "colab": {
          "base_uri": "https://localhost:8080/"
        },
        "id": "qEbeOsNIZwCq",
        "outputId": "9e953b75-b1c2-450b-f388-8a5614f24647"
      },
      "execution_count": 7,
      "outputs": [
        {
          "output_type": "stream",
          "name": "stdout",
          "text": [
            "Epoch 1/3\n",
            "4239/4239 [==============================] - 195s 44ms/step - loss: 0.0734 - accuracy: 0.9374 - val_loss: 0.0532 - val_accuracy: 0.9943\n",
            "Epoch 2/3\n",
            "4239/4239 [==============================] - 188s 44ms/step - loss: 0.0506 - accuracy: 0.9898 - val_loss: 0.0507 - val_accuracy: 0.9942\n",
            "Epoch 3/3\n",
            "4239/4239 [==============================] - 188s 44ms/step - loss: 0.0461 - accuracy: 0.9914 - val_loss: 0.0510 - val_accuracy: 0.9940\n"
          ]
        },
        {
          "output_type": "execute_result",
          "data": {
            "text/plain": [
              "<keras.callbacks.History at 0x7f7c100c4b50>"
            ]
          },
          "metadata": {},
          "execution_count": 7
        }
      ]
    },
    {
      "cell_type": "code",
      "source": [
        "submission = pd.read_csv('/content/drive/MyDrive/jigsaw-text-data/sample_submission.csv')"
      ],
      "metadata": {
        "id": "jgHu11Ntb7lu"
      },
      "execution_count": 8,
      "outputs": []
    },
    {
      "cell_type": "code",
      "source": [
        "from sklearn.metrics import roc_curve, roc_auc_score\n",
        "list_classes = [\"toxic\", \"severe_toxic\", \"obscene\", \"threat\", \"insult\", \"identity_hate\"]\n",
        "preds = model.predict(test_text, batch_size=1024)\n",
        "submission[list_classes] = preds"
      ],
      "metadata": {
        "id": "BYebGWdkefJ1"
      },
      "execution_count": 9,
      "outputs": []
    },
    {
      "cell_type": "code",
      "source": [
        "submission.to_csv('/content/drive/MyDrive/jigsaw-text-data/sample_submission_1.csv',index=False)"
      ],
      "metadata": {
        "id": "YBERdGJPe1sU"
      },
      "execution_count": 11,
      "outputs": []
    },
    {
      "cell_type": "code",
      "source": [
        ""
      ],
      "metadata": {
        "id": "wWMpidAOfE4h"
      },
      "execution_count": null,
      "outputs": []
    }
  ]
}